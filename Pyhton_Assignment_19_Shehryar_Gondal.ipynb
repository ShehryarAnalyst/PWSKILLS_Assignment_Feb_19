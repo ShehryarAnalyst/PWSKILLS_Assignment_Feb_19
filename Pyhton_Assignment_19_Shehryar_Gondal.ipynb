{
 "cells": [
  {
   "cell_type": "markdown",
   "id": "e02d54f3",
   "metadata": {},
   "source": [
    "## Assignments  Question"
   ]
  },
  {
   "cell_type": "markdown",
   "id": "11791335",
   "metadata": {},
   "source": [
    "__Q1) What is Flask Framework? What are the advantages of Flask Framework?__\n",
    "\n",
    "__Ans)__ Flask is a lightweight and flexible web application framework for Python. It is designed to be simple, easy to learn, and customizable, making it a popular choice for building web applications, particularly for smaller projects or prototypes.\n",
    "\n",
    "__Advantages of Flask Framework include:__ \n",
    "<br>\n",
    "\n",
    "* __Lightweight:__ Flask is a micro-framework, meaning it provides only the basic tools and libraries needed to build a web application. This makes it faster, more lightweight, and more flexible than other full-stack frameworks.\n",
    "\n",
    "* __Easy to learn:__ Flask has a simple and intuitive API that makes it easy for developers to get started quickly with building web applications. It also has a large and supportive community that provides extensive documentation and resources.\n",
    "\n",
    "* __Customizable:__ Flask is highly customizable and can be easily extended with third-party libraries and tools to add additional functionality to your application.\n",
    "\n",
    "* __Flexible:__ Flask provides a lot of flexibility in terms of how you structure your application and which libraries and tools you choose to use."
   ]
  },
  {
   "cell_type": "markdown",
   "id": "de6bf7ca",
   "metadata": {},
   "source": [
    "__Q2 ) Create a simple Flask application to display 'Hello World!!'. Attach the screenshot of the output in Jupyter Notebook ?__"
   ]
  },
  {
   "cell_type": "markdown",
   "id": "dcb698ad",
   "metadata": {},
   "source": [
    "![image](out1.PNG)"
   ]
  },
  {
   "cell_type": "markdown",
   "id": "a9040ed5",
   "metadata": {},
   "source": [
    "__Q3) What is App routing in Flask? Why do we use app routes??__\n",
    "\n",
    "__Ans)__ In Flask, app routing refers to the process of mapping URLs to specific functions that will handle the HTTP requests for those URLs. This is done using the @app.route decorator, which allows you to define routes for your application.\n",
    "\n",
    "We use app routes in Flask to define the URLs for our web application and to specify which functions should be executed when those URLs are requested."
   ]
  },
  {
   "cell_type": "markdown",
   "id": "711bf8c9",
   "metadata": {},
   "source": [
    "__Q4) Create a \"/welcome\" route to display the welcome message \"Welcome to ABC Corporation\" and a \"/\" route to show the following details: <br>\n",
    "Company Name: ABC Corporation   <br>\n",
    "Location: India  <br>\n",
    "Contact Detail: 999-999-9999  <br>\n",
    "Attach the screenshot of the output in Jupyter Notebook ?__"
   ]
  },
  {
   "cell_type": "code",
   "execution_count": null,
   "id": "3a4c736b",
   "metadata": {},
   "outputs": [],
   "source": [
    "from flask import Flask\n",
    "from flask import request\n",
    "\n",
    "app = Flask(__name__)\n",
    "\n",
    "@app.route(\"/\")\n",
    "def hello_world():\n",
    "    return \"\"\"<h1>Company Name: ABC Corporation </h1> <br>\n",
    "             <h1>Location: India</h1> <br>\n",
    "             <h1>Contact Detail: 999-999-9999</h1> <br>\"\"\"\n",
    "\n",
    "\n",
    "@app.route(\"/welcome\")\n",
    "def hello_world1():\n",
    "    return \"<h1>Welcome to ABC Corporation </h1>\"\n",
    "\n",
    "\n",
    "\n",
    "if __name__==\"__main__\":\n",
    "    app.run(host=\"0.0.0.0\")"
   ]
  },
  {
   "cell_type": "markdown",
   "id": "38fe98fc",
   "metadata": {},
   "source": [
    "![image](out2.PNG) <br>\n",
    "![image](out3.PNG) <br>"
   ]
  },
  {
   "cell_type": "markdown",
   "id": "6f813bce",
   "metadata": {},
   "source": [
    "__Q5) What function is used in Flask for URL Building? Write a Python code to demonstrate the working of the url_for() function ?__\n",
    "\n",
    "__Ans)__ In Flask, the url_for() function is used for URL building. It takes the name of the endpoint function as an argument, along with any arguments required by the URL. It then returns the URL for that endpoint, based on the specified arguments.\n",
    "\n",
    "__Here's an example of how to use the url_for() function in Flask:__"
   ]
  },
  {
   "cell_type": "code",
   "execution_count": 3,
   "id": "7f2c59ea",
   "metadata": {},
   "outputs": [
    {
     "name": "stdout",
     "output_type": "stream",
     "text": [
      "/\n",
      "/user/John%20Doe\n"
     ]
    }
   ],
   "source": [
    "from flask import Flask, url_for\n",
    "\n",
    "app = Flask(__name__)\n",
    "\n",
    "@app.route('/')\n",
    "def home():\n",
    "    return 'Hello, World!'\n",
    "\n",
    "@app.route('/user/<username>')\n",
    "def user_profile(username):\n",
    "    return f'User profile for {username}'\n",
    "\n",
    "if __name__ == '__main__':\n",
    "    with app.test_request_context():\n",
    "        print(url_for('home'))\n",
    "        print(url_for('user_profile', username='John Doe'))"
   ]
  },
  {
   "cell_type": "markdown",
   "id": "906b5306",
   "metadata": {},
   "source": [
    "-------------------------------------------------------------------------------------------- __End__----------------------------------------------------------------------------------------------------------------"
   ]
  }
 ],
 "metadata": {
  "kernelspec": {
   "display_name": "Python 3 (ipykernel)",
   "language": "python",
   "name": "python3"
  },
  "language_info": {
   "codemirror_mode": {
    "name": "ipython",
    "version": 3
   },
   "file_extension": ".py",
   "mimetype": "text/x-python",
   "name": "python",
   "nbconvert_exporter": "python",
   "pygments_lexer": "ipython3",
   "version": "3.9.12"
  },
  "varInspector": {
   "cols": {
    "lenName": 16,
    "lenType": 16,
    "lenVar": 40
   },
   "kernels_config": {
    "python": {
     "delete_cmd_postfix": "",
     "delete_cmd_prefix": "del ",
     "library": "var_list.py",
     "varRefreshCmd": "print(var_dic_list())"
    },
    "r": {
     "delete_cmd_postfix": ") ",
     "delete_cmd_prefix": "rm(",
     "library": "var_list.r",
     "varRefreshCmd": "cat(var_dic_list()) "
    }
   },
   "types_to_exclude": [
    "module",
    "function",
    "builtin_function_or_method",
    "instance",
    "_Feature"
   ],
   "window_display": false
  }
 },
 "nbformat": 4,
 "nbformat_minor": 5
}
